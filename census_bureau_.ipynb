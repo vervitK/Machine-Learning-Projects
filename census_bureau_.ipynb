{
  "nbformat": 4,
  "nbformat_minor": 0,
  "metadata": {
    "colab": {
      "name": "census bureau .ipynb",
      "provenance": [],
      "collapsed_sections": []
    },
    "kernelspec": {
      "name": "python3",
      "display_name": "Python 3"
    },
    "language_info": {
      "name": "python"
    }
  },
  "cells": [
    {
      "cell_type": "code",
      "metadata": {
        "id": "Xs89Y6-GsmWL"
      },
      "source": [
        "import numpy as np\n",
        "import pandas as pd\n",
        "import seaborn as sns\n",
        "import matplotlib.pyplot as plt"
      ],
      "execution_count": 85,
      "outputs": []
    },
    {
      "cell_type": "code",
      "metadata": {
        "id": "yDxxBFZGsvGQ"
      },
      "source": [
        "train = pd.read_csv('/content/adult.data.csv',na_filter=' ?',na_values=' ?')\n",
        "test = pd.read_csv('adult.test.csv',na_filter=' ?',na_values=' ?')"
      ],
      "execution_count": 86,
      "outputs": []
    },
    {
      "cell_type": "code",
      "metadata": {
        "colab": {
          "base_uri": "https://localhost:8080/",
          "height": 287
        },
        "id": "Nw5Toa25tSXB",
        "outputId": "5dcba1aa-d3e7-4f35-a2c2-f3409b4e4515"
      },
      "source": [
        "train.head()"
      ],
      "execution_count": 87,
      "outputs": [
        {
          "output_type": "execute_result",
          "data": {
            "text/html": [
              "<div>\n",
              "<style scoped>\n",
              "    .dataframe tbody tr th:only-of-type {\n",
              "        vertical-align: middle;\n",
              "    }\n",
              "\n",
              "    .dataframe tbody tr th {\n",
              "        vertical-align: top;\n",
              "    }\n",
              "\n",
              "    .dataframe thead th {\n",
              "        text-align: right;\n",
              "    }\n",
              "</style>\n",
              "<table border=\"1\" class=\"dataframe\">\n",
              "  <thead>\n",
              "    <tr style=\"text-align: right;\">\n",
              "      <th></th>\n",
              "      <th>age</th>\n",
              "      <th>workclass</th>\n",
              "      <th>fnlwgt</th>\n",
              "      <th>education</th>\n",
              "      <th>education_num</th>\n",
              "      <th>marital_status</th>\n",
              "      <th>occupation</th>\n",
              "      <th>relationship</th>\n",
              "      <th>race</th>\n",
              "      <th>sex</th>\n",
              "      <th>capital_gain</th>\n",
              "      <th>capital_loss</th>\n",
              "      <th>hours_per_week</th>\n",
              "      <th>native_country</th>\n",
              "      <th>income</th>\n",
              "    </tr>\n",
              "  </thead>\n",
              "  <tbody>\n",
              "    <tr>\n",
              "      <th>0</th>\n",
              "      <td>39</td>\n",
              "      <td>State-gov</td>\n",
              "      <td>77516</td>\n",
              "      <td>Bachelors</td>\n",
              "      <td>13</td>\n",
              "      <td>Never-married</td>\n",
              "      <td>Adm-clerical</td>\n",
              "      <td>Not-in-family</td>\n",
              "      <td>White</td>\n",
              "      <td>Male</td>\n",
              "      <td>2174</td>\n",
              "      <td>0</td>\n",
              "      <td>40</td>\n",
              "      <td>United-States</td>\n",
              "      <td>&lt;=50K</td>\n",
              "    </tr>\n",
              "    <tr>\n",
              "      <th>1</th>\n",
              "      <td>50</td>\n",
              "      <td>Self-emp-not-inc</td>\n",
              "      <td>83311</td>\n",
              "      <td>Bachelors</td>\n",
              "      <td>13</td>\n",
              "      <td>Married-civ-spouse</td>\n",
              "      <td>Exec-managerial</td>\n",
              "      <td>Husband</td>\n",
              "      <td>White</td>\n",
              "      <td>Male</td>\n",
              "      <td>0</td>\n",
              "      <td>0</td>\n",
              "      <td>13</td>\n",
              "      <td>United-States</td>\n",
              "      <td>&lt;=50K</td>\n",
              "    </tr>\n",
              "    <tr>\n",
              "      <th>2</th>\n",
              "      <td>38</td>\n",
              "      <td>Private</td>\n",
              "      <td>215646</td>\n",
              "      <td>HS-grad</td>\n",
              "      <td>9</td>\n",
              "      <td>Divorced</td>\n",
              "      <td>Handlers-cleaners</td>\n",
              "      <td>Not-in-family</td>\n",
              "      <td>White</td>\n",
              "      <td>Male</td>\n",
              "      <td>0</td>\n",
              "      <td>0</td>\n",
              "      <td>40</td>\n",
              "      <td>United-States</td>\n",
              "      <td>&lt;=50K</td>\n",
              "    </tr>\n",
              "    <tr>\n",
              "      <th>3</th>\n",
              "      <td>53</td>\n",
              "      <td>Private</td>\n",
              "      <td>234721</td>\n",
              "      <td>11th</td>\n",
              "      <td>7</td>\n",
              "      <td>Married-civ-spouse</td>\n",
              "      <td>Handlers-cleaners</td>\n",
              "      <td>Husband</td>\n",
              "      <td>Black</td>\n",
              "      <td>Male</td>\n",
              "      <td>0</td>\n",
              "      <td>0</td>\n",
              "      <td>40</td>\n",
              "      <td>United-States</td>\n",
              "      <td>&lt;=50K</td>\n",
              "    </tr>\n",
              "    <tr>\n",
              "      <th>4</th>\n",
              "      <td>28</td>\n",
              "      <td>Private</td>\n",
              "      <td>338409</td>\n",
              "      <td>Bachelors</td>\n",
              "      <td>13</td>\n",
              "      <td>Married-civ-spouse</td>\n",
              "      <td>Prof-specialty</td>\n",
              "      <td>Wife</td>\n",
              "      <td>Black</td>\n",
              "      <td>Female</td>\n",
              "      <td>0</td>\n",
              "      <td>0</td>\n",
              "      <td>40</td>\n",
              "      <td>Cuba</td>\n",
              "      <td>&lt;=50K</td>\n",
              "    </tr>\n",
              "  </tbody>\n",
              "</table>\n",
              "</div>"
            ],
            "text/plain": [
              "   age          workclass  fnlwgt  ... hours_per_week  native_country  income\n",
              "0   39          State-gov   77516  ...             40   United-States   <=50K\n",
              "1   50   Self-emp-not-inc   83311  ...             13   United-States   <=50K\n",
              "2   38            Private  215646  ...             40   United-States   <=50K\n",
              "3   53            Private  234721  ...             40   United-States   <=50K\n",
              "4   28            Private  338409  ...             40            Cuba   <=50K\n",
              "\n",
              "[5 rows x 15 columns]"
            ]
          },
          "metadata": {
            "tags": []
          },
          "execution_count": 87
        }
      ]
    },
    {
      "cell_type": "code",
      "metadata": {
        "colab": {
          "base_uri": "https://localhost:8080/"
        },
        "id": "CNq6tmN4rXDI",
        "outputId": "b817af5a-1fdc-4d0b-adb9-937660783c40"
      },
      "source": [
        "print(train.shape)\n",
        "print(test.shape)"
      ],
      "execution_count": 88,
      "outputs": [
        {
          "output_type": "stream",
          "text": [
            "(32561, 15)\n",
            "(16281, 15)\n"
          ],
          "name": "stdout"
        }
      ]
    },
    {
      "cell_type": "code",
      "metadata": {
        "id": "K4D23VfFs8Si"
      },
      "source": [
        "df = pd.concat([train,test])"
      ],
      "execution_count": 128,
      "outputs": []
    },
    {
      "cell_type": "code",
      "metadata": {
        "colab": {
          "base_uri": "https://localhost:8080/"
        },
        "id": "lKdCoeSUrI1R",
        "outputId": "ac9583b0-79c9-4583-f443-5a66eff004cd"
      },
      "source": [
        "df['cross_Valid'].unique()"
      ],
      "execution_count": 129,
      "outputs": [
        {
          "output_type": "execute_result",
          "data": {
            "text/plain": [
              "array([nan, ' <=50K.', ' >50K.'], dtype=object)"
            ]
          },
          "metadata": {
            "tags": []
          },
          "execution_count": 129
        }
      ]
    },
    {
      "cell_type": "code",
      "metadata": {
        "colab": {
          "base_uri": "https://localhost:8080/"
        },
        "id": "vqS0TUqwAYtw",
        "outputId": "62c54108-79ea-45fc-8897-29c0d0c18b91"
      },
      "source": [
        "df.skew()"
      ],
      "execution_count": 130,
      "outputs": [
        {
          "output_type": "execute_result",
          "data": {
            "text/plain": [
              "age                0.557580\n",
              "fnlwgt             1.438892\n",
              "education_num     -0.316525\n",
              "capital_gain      11.894659\n",
              "capital_loss       4.569809\n",
              "hours_per_week     0.238750\n",
              "dtype: float64"
            ]
          },
          "metadata": {
            "tags": []
          },
          "execution_count": 130
        }
      ]
    },
    {
      "cell_type": "code",
      "metadata": {
        "id": "oyrUSSjpAbj_"
      },
      "source": [
        "df['capital_gain']=np.log(df['capital_gain']+1)\n",
        "df['capital_loss']=np.log(df['capital_loss']+1)\n"
      ],
      "execution_count": 131,
      "outputs": []
    },
    {
      "cell_type": "code",
      "metadata": {
        "colab": {
          "base_uri": "https://localhost:8080/",
          "height": 347
        },
        "id": "mFWeu83S_Faj",
        "outputId": "64419462-132b-4d56-c583-488b60a114a0"
      },
      "source": [
        "sns.countplot(df['income'],label=\"Count\")\n"
      ],
      "execution_count": 132,
      "outputs": [
        {
          "output_type": "stream",
          "text": [
            "/usr/local/lib/python3.7/dist-packages/seaborn/_decorators.py:43: FutureWarning: Pass the following variable as a keyword arg: x. From version 0.12, the only valid positional argument will be `data`, and passing other arguments without an explicit keyword will result in an error or misinterpretation.\n",
            "  FutureWarning\n"
          ],
          "name": "stderr"
        },
        {
          "output_type": "execute_result",
          "data": {
            "text/plain": [
              "<matplotlib.axes._subplots.AxesSubplot at 0x7fa8b167ef50>"
            ]
          },
          "metadata": {
            "tags": []
          },
          "execution_count": 132
        },
        {
          "output_type": "display_data",
          "data": {
            "image/png": "[encoded data removed]",
            "text/plain": [
              "<Figure size 432x288 with 1 Axes>"
            ]
          },
          "metadata": {
            "tags": [],
            "needs_background": "light"
          }
        }
      ]
    },
    {
      "cell_type": "code",
      "metadata": {
        "colab": {
          "base_uri": "https://localhost:8080/",
          "height": 355
        },
        "id": "sexKMQ5l_NJs",
        "outputId": "755fd566-3dd2-4ed1-e96b-8cfc57b5b1e7"
      },
      "source": [
        "sns.heatmap(df.corr(),annot=True)"
      ],
      "execution_count": 133,
      "outputs": [
        {
          "output_type": "execute_result",
          "data": {
            "text/plain": [
              "<matplotlib.axes._subplots.AxesSubplot at 0x7fa8b172a690>"
            ]
          },
          "metadata": {
            "tags": []
          },
          "execution_count": 133
        },
        {
          "output_type": "display_data",
          "data": {
            "image/png": "[encoded data removed]",
            "text/plain": [
              "<Figure size 432x288 with 2 Axes>"
            ]
          },
          "metadata": {
            "tags": [],
            "needs_background": "light"
          }
        }
      ]
    },
    {
      "cell_type": "code",
      "metadata": {
        "colab": {
          "base_uri": "https://localhost:8080/",
          "height": 540
        },
        "id": "xv8u-MbL_NCg",
        "outputId": "f43388ca-548f-4ee1-bb91-22edfa006db7"
      },
      "source": [
        "# Explore Education Num vs Income\n",
        "g = sns.factorplot(y=\"education_num\",x=\"income\",data=df,kind=\"bar\",size = 6,palette = \"muted\")\n",
        "g.despine(left=True)\n",
        "g = g.set_ylabels(\">50K probability\")"
      ],
      "execution_count": 134,
      "outputs": [
        {
          "output_type": "stream",
          "text": [
            "/usr/local/lib/python3.7/dist-packages/seaborn/categorical.py:3714: UserWarning: The `factorplot` function has been renamed to `catplot`. The original name will be removed in a future release. Please update your code. Note that the default `kind` in `factorplot` (`'point'`) has changed `'strip'` in `catplot`.\n",
            "  warnings.warn(msg)\n",
            "/usr/local/lib/python3.7/dist-packages/seaborn/categorical.py:3720: UserWarning: The `size` parameter has been renamed to `height`; please update your code.\n",
            "  warnings.warn(msg, UserWarning)\n"
          ],
          "name": "stderr"
        },
        {
          "output_type": "display_data",
          "data": {
            "image/png": "[encoded data removed]",
            "text/plain": [
              "<Figure size 432x432 with 1 Axes>"
            ]
          },
          "metadata": {
            "tags": [],
            "needs_background": "light"
          }
        }
      ]
    },
    {
      "cell_type": "code",
      "metadata": {
        "colab": {
          "base_uri": "https://localhost:8080/",
          "height": 287
        },
        "id": "3--Fj7ygs_zE",
        "outputId": "78b756dd-8e4d-4388-fd8f-36b6613f8c6d"
      },
      "source": [
        "df.head()"
      ],
      "execution_count": 135,
      "outputs": [
        {
          "output_type": "execute_result",
          "data": {
            "text/html": [
              "<div>\n",
              "<style scoped>\n",
              "    .dataframe tbody tr th:only-of-type {\n",
              "        vertical-align: middle;\n",
              "    }\n",
              "\n",
              "    .dataframe tbody tr th {\n",
              "        vertical-align: top;\n",
              "    }\n",
              "\n",
              "    .dataframe thead th {\n",
              "        text-align: right;\n",
              "    }\n",
              "</style>\n",
              "<table border=\"1\" class=\"dataframe\">\n",
              "  <thead>\n",
              "    <tr style=\"text-align: right;\">\n",
              "      <th></th>\n",
              "      <th>age</th>\n",
              "      <th>workclass</th>\n",
              "      <th>fnlwgt</th>\n",
              "      <th>education</th>\n",
              "      <th>education_num</th>\n",
              "      <th>marital_status</th>\n",
              "      <th>occupation</th>\n",
              "      <th>relationship</th>\n",
              "      <th>race</th>\n",
              "      <th>sex</th>\n",
              "      <th>capital_gain</th>\n",
              "      <th>capital_loss</th>\n",
              "      <th>hours_per_week</th>\n",
              "      <th>native_country</th>\n",
              "      <th>income</th>\n",
              "      <th>cross_Valid</th>\n",
              "    </tr>\n",
              "  </thead>\n",
              "  <tbody>\n",
              "    <tr>\n",
              "      <th>0</th>\n",
              "      <td>39</td>\n",
              "      <td>State-gov</td>\n",
              "      <td>77516</td>\n",
              "      <td>Bachelors</td>\n",
              "      <td>13</td>\n",
              "      <td>Never-married</td>\n",
              "      <td>Adm-clerical</td>\n",
              "      <td>Not-in-family</td>\n",
              "      <td>White</td>\n",
              "      <td>Male</td>\n",
              "      <td>7.684784</td>\n",
              "      <td>0.0</td>\n",
              "      <td>40</td>\n",
              "      <td>United-States</td>\n",
              "      <td>&lt;=50K</td>\n",
              "      <td>NaN</td>\n",
              "    </tr>\n",
              "    <tr>\n",
              "      <th>1</th>\n",
              "      <td>50</td>\n",
              "      <td>Self-emp-not-inc</td>\n",
              "      <td>83311</td>\n",
              "      <td>Bachelors</td>\n",
              "      <td>13</td>\n",
              "      <td>Married-civ-spouse</td>\n",
              "      <td>Exec-managerial</td>\n",
              "      <td>Husband</td>\n",
              "      <td>White</td>\n",
              "      <td>Male</td>\n",
              "      <td>0.000000</td>\n",
              "      <td>0.0</td>\n",
              "      <td>13</td>\n",
              "      <td>United-States</td>\n",
              "      <td>&lt;=50K</td>\n",
              "      <td>NaN</td>\n",
              "    </tr>\n",
              "    <tr>\n",
              "      <th>2</th>\n",
              "      <td>38</td>\n",
              "      <td>Private</td>\n",
              "      <td>215646</td>\n",
              "      <td>HS-grad</td>\n",
              "      <td>9</td>\n",
              "      <td>Divorced</td>\n",
              "      <td>Handlers-cleaners</td>\n",
              "      <td>Not-in-family</td>\n",
              "      <td>White</td>\n",
              "      <td>Male</td>\n",
              "      <td>0.000000</td>\n",
              "      <td>0.0</td>\n",
              "      <td>40</td>\n",
              "      <td>United-States</td>\n",
              "      <td>&lt;=50K</td>\n",
              "      <td>NaN</td>\n",
              "    </tr>\n",
              "    <tr>\n",
              "      <th>3</th>\n",
              "      <td>53</td>\n",
              "      <td>Private</td>\n",
              "      <td>234721</td>\n",
              "      <td>11th</td>\n",
              "      <td>7</td>\n",
              "      <td>Married-civ-spouse</td>\n",
              "      <td>Handlers-cleaners</td>\n",
              "      <td>Husband</td>\n",
              "      <td>Black</td>\n",
              "      <td>Male</td>\n",
              "      <td>0.000000</td>\n",
              "      <td>0.0</td>\n",
              "      <td>40</td>\n",
              "      <td>United-States</td>\n",
              "      <td>&lt;=50K</td>\n",
              "      <td>NaN</td>\n",
              "    </tr>\n",
              "    <tr>\n",
              "      <th>4</th>\n",
              "      <td>28</td>\n",
              "      <td>Private</td>\n",
              "      <td>338409</td>\n",
              "      <td>Bachelors</td>\n",
              "      <td>13</td>\n",
              "      <td>Married-civ-spouse</td>\n",
              "      <td>Prof-specialty</td>\n",
              "      <td>Wife</td>\n",
              "      <td>Black</td>\n",
              "      <td>Female</td>\n",
              "      <td>0.000000</td>\n",
              "      <td>0.0</td>\n",
              "      <td>40</td>\n",
              "      <td>Cuba</td>\n",
              "      <td>&lt;=50K</td>\n",
              "      <td>NaN</td>\n",
              "    </tr>\n",
              "  </tbody>\n",
              "</table>\n",
              "</div>"
            ],
            "text/plain": [
              "   age          workclass  fnlwgt  ...  native_country  income cross_Valid\n",
              "0   39          State-gov   77516  ...   United-States   <=50K         NaN\n",
              "1   50   Self-emp-not-inc   83311  ...   United-States   <=50K         NaN\n",
              "2   38            Private  215646  ...   United-States   <=50K         NaN\n",
              "3   53            Private  234721  ...   United-States   <=50K         NaN\n",
              "4   28            Private  338409  ...            Cuba   <=50K         NaN\n",
              "\n",
              "[5 rows x 16 columns]"
            ]
          },
          "metadata": {
            "tags": []
          },
          "execution_count": 135
        }
      ]
    },
    {
      "cell_type": "code",
      "metadata": {
        "id": "_xJt8W6NtA0d",
        "colab": {
          "base_uri": "https://localhost:8080/"
        },
        "outputId": "947c63df-af41-46e5-df91-3c68f6bbbd1a"
      },
      "source": [
        "for i in df.columns:\n",
        "  print(i,'=> ','no. of unique values ',df[i].nunique(),'|',' null values ',df[i].isna().sum())\n",
        "  print(df[i].unique())\n",
        "  print('--------------------------------------------------------------------------------------------------')"
      ],
      "execution_count": 136,
      "outputs": [
        {
          "output_type": "stream",
          "text": [
            "age =>  no. of unique values  74 |  null values  0\n",
            "[39 50 38 53 28 37 49 52 31 42 30 23 32 40 34 25 43 54 35 59 56 19 20 45\n",
            " 22 48 21 24 57 44 41 29 18 47 46 36 79 27 67 33 76 17 55 61 70 64 71 68\n",
            " 66 51 58 26 60 90 75 65 77 62 63 80 72 74 69 73 81 78 88 82 83 84 85 86\n",
            " 87 89]\n",
            "--------------------------------------------------------------------------------------------------\n",
            "workclass =>  no. of unique values  8 |  null values  2799\n",
            "[' State-gov' ' Self-emp-not-inc' ' Private' ' Federal-gov' ' Local-gov'\n",
            " nan ' Self-emp-inc' ' Without-pay' ' Never-worked']\n",
            "--------------------------------------------------------------------------------------------------\n",
            "fnlwgt =>  no. of unique values  28523 |  null values  0\n",
            "[ 77516  83311 215646 ... 173449  89686 350977]\n",
            "--------------------------------------------------------------------------------------------------\n",
            "education =>  no. of unique values  16 |  null values  0\n",
            "[' Bachelors' ' HS-grad' ' 11th' ' Masters' ' 9th' ' Some-college'\n",
            " ' Assoc-acdm' ' Assoc-voc' ' 7th-8th' ' Doctorate' ' Prof-school'\n",
            " ' 5th-6th' ' 10th' ' 1st-4th' ' Preschool' ' 12th']\n",
            "--------------------------------------------------------------------------------------------------\n",
            "education_num =>  no. of unique values  16 |  null values  0\n",
            "[13  9  7 14  5 10 12 11  4 16 15  3  6  2  1  8]\n",
            "--------------------------------------------------------------------------------------------------\n",
            "marital_status =>  no. of unique values  7 |  null values  0\n",
            "[' Never-married' ' Married-civ-spouse' ' Divorced'\n",
            " ' Married-spouse-absent' ' Separated' ' Married-AF-spouse' ' Widowed']\n",
            "--------------------------------------------------------------------------------------------------\n",
            "occupation =>  no. of unique values  14 |  null values  2809\n",
            "[' Adm-clerical' ' Exec-managerial' ' Handlers-cleaners' ' Prof-specialty'\n",
            " ' Other-service' ' Sales' ' Craft-repair' ' Transport-moving'\n",
            " ' Farming-fishing' ' Machine-op-inspct' ' Tech-support' nan\n",
            " ' Protective-serv' ' Armed-Forces' ' Priv-house-serv']\n",
            "--------------------------------------------------------------------------------------------------\n",
            "relationship =>  no. of unique values  6 |  null values  0\n",
            "[' Not-in-family' ' Husband' ' Wife' ' Own-child' ' Unmarried'\n",
            " ' Other-relative']\n",
            "--------------------------------------------------------------------------------------------------\n",
            "race =>  no. of unique values  5 |  null values  0\n",
            "[' White' ' Black' ' Asian-Pac-Islander' ' Amer-Indian-Eskimo' ' Other']\n",
            "--------------------------------------------------------------------------------------------------\n",
            "sex =>  no. of unique values  2 |  null values  0\n",
            "[' Male' ' Female']\n",
            "--------------------------------------------------------------------------------------------------\n",
            "capital_gain =>  no. of unique values  123 |  null values  0\n",
            "[ 7.68478394  0.          9.55286568  8.55236727  8.51998928  7.78655181\n",
            "  9.57115673  9.61747076  8.94754602 10.43693535  8.31016902  8.3864009\n",
            "  8.89549263  7.25134498  8.20930841  6.96224346  8.15046791  7.62608276\n",
            "  7.68570306  6.38856141  9.90608418  8.83200393  8.31922994  7.01391547\n",
            "  9.06126015  8.13505391  7.8624972  10.13606645  8.44483753  9.14708103\n",
            "  7.80954132  8.04044688  9.26917516  7.99463231  8.10952566  7.8559322\n",
            "  8.15248608  8.49002752 11.51292546  8.78186249  7.2943773   7.75362355\n",
            "  7.65254569  7.96762674 10.13161865  9.26112854  7.69757535  7.99361999\n",
            " 10.23383392  8.8199609   7.70930833  7.3178762   9.51421562  7.8770179\n",
            "  8.62281367  8.47386807  8.23800825  8.05134093  8.24774389  8.27969713\n",
            "  6.81892407  5.99645209  7.94803199  7.99900721  8.50410795  7.63191651\n",
            "  7.76429601  8.6044712   9.6172045   7.26192709  8.09376776 10.00065963\n",
            "  8.39321601  8.27103687  9.26549122  6.89972311  8.50349986  6.99117689\n",
            "  8.91341572  8.77924972  4.74493213  8.97423822  7.7608932   8.13710339\n",
            "  8.14118979  7.97522084  7.04925484  7.78945457  7.73674368  9.66978849\n",
            " 10.62888409  8.41383068  7.83952558  8.14815644  8.76701762  7.52240023\n",
            "  8.26565017  8.65207367  9.16565676  7.28344823  7.61923342  7.51316355\n",
            "  9.36554764  7.98514393  8.00436556  8.91516362  8.75794088  7.49443022\n",
            "  7.068172    8.45276133  8.81343849  7.60589     8.71571613  7.88382321\n",
            "  7.40245152  9.82455256  8.98456837  7.77821147  8.52931937  7.1428274\n",
            "  8.89054825  7.45703209  8.79679269]\n",
            "--------------------------------------------------------------------------------------------------\n",
            "capital_loss =>  no. of unique values  99 |  null values  0\n",
            "[0.         7.62217459 7.25063551 7.55118687 7.36137543 7.54327335\n",
            " 7.45007957 7.47477218 7.3556411  7.68708016 7.50494207 7.59135705\n",
            " 7.58984151 7.53743004 7.20117088 7.69938941 7.46278916 7.30384323\n",
            " 7.75790621 7.78986856 7.23056315 7.45124168 7.62657021 7.77401508\n",
            " 7.42057891 7.76344639 7.4223737  6.48310735 7.78030309 7.31654818\n",
            " 7.60190196 7.37211803 7.40974195 7.39572161 7.52240023 7.46221494\n",
            " 7.60240134 7.36518013 7.72267752 7.37963215 6.04025471 7.84306402\n",
            " 7.68478394 7.6989362  7.45414108 7.8018004  7.03790596 7.71378462\n",
            " 6.43935037 5.36597602 7.3395377  6.78105763 7.41997992 6.99668149\n",
            " 7.37462902 8.00803285 7.71065332 7.52023456 6.69826805 7.94626364\n",
            " 7.84776254 7.62948992 7.58832368 6.88243747 7.67322312 7.50988306\n",
            " 7.4593389  7.13807303 7.66387726 7.864804   7.73324565 5.78074352\n",
            " 8.37953903 7.71735127 7.3889461  7.40792432 7.82003799 8.2350955\n",
            " 7.47079377 8.2117544  7.72665366 7.64060383 7.80710329 5.04985601\n",
            " 8.26898821 7.69712132 7.57301726 7.81116339 7.67971364 7.92117272\n",
            " 7.81318727 7.25276242 7.26542972 8.06337782 7.32052696 7.53422833\n",
            " 7.55590509 7.81035268 7.25981961]\n",
            "--------------------------------------------------------------------------------------------------\n",
            "hours_per_week =>  no. of unique values  96 |  null values  0\n",
            "[40 13 16 45 50 80 30 35 60 20 52 44 15 25 38 43 55 48 58 32 70  2 22 56\n",
            " 41 28 36 24 46 42 12 65  1 10 34 75 98 33 54  8  6 64 19 18 72  5  9 47\n",
            " 37 21 26 14  4 59  7 99 53 39 62 57 78 90 66 11 49 84  3 17 68 27 85 31\n",
            " 51 77 63 23 87 88 73 89 97 94 29 96 67 82 86 91 81 76 92 61 74 95 79 69]\n",
            "--------------------------------------------------------------------------------------------------\n",
            "native_country =>  no. of unique values  41 |  null values  857\n",
            "[' United-States' ' Cuba' ' Jamaica' ' India' nan ' Mexico' ' South'\n",
            " ' Puerto-Rico' ' Honduras' ' England' ' Canada' ' Germany' ' Iran'\n",
            " ' Philippines' ' Italy' ' Poland' ' Columbia' ' Cambodia' ' Thailand'\n",
            " ' Ecuador' ' Laos' ' Taiwan' ' Haiti' ' Portugal' ' Dominican-Republic'\n",
            " ' El-Salvador' ' France' ' Guatemala' ' China' ' Japan' ' Yugoslavia'\n",
            " ' Peru' ' Outlying-US(Guam-USVI-etc)' ' Scotland' ' Trinadad&Tobago'\n",
            " ' Greece' ' Nicaragua' ' Vietnam' ' Hong' ' Ireland' ' Hungary'\n",
            " ' Holand-Netherlands']\n",
            "--------------------------------------------------------------------------------------------------\n",
            "income =>  no. of unique values  2 |  null values  16281\n",
            "[' <=50K' ' >50K' nan]\n",
            "--------------------------------------------------------------------------------------------------\n",
            "cross_Valid =>  no. of unique values  2 |  null values  32561\n",
            "[nan ' <=50K.' ' >50K.']\n",
            "--------------------------------------------------------------------------------------------------\n"
          ],
          "name": "stdout"
        }
      ]
    },
    {
      "cell_type": "code",
      "metadata": {
        "id": "_yMSiCnv6txE"
      },
      "source": [
        "workclass=df.groupby(['workclass'])['income'].count().sort_values(0,ascending=False).rank(method='max').to_dict()\n",
        "df['workclass']=df['workclass'].map(workclass)"
      ],
      "execution_count": 98,
      "outputs": []
    },
    {
      "cell_type": "code",
      "metadata": {
        "id": "ryvAHACy65Qh"
      },
      "source": [
        "occupation=df.groupby(['occupation'])['income'].count().sort_values(0,ascending=False).rank(method='max').to_dict()\n",
        "df['occupation']=df['occupation'].map(occupation)"
      ],
      "execution_count": 99,
      "outputs": []
    },
    {
      "cell_type": "code",
      "metadata": {
        "id": "TT31QD2m61mu"
      },
      "source": [
        "race=df.groupby(['race'])['income'].count().sort_values(0,ascending=False).rank(method='max').to_dict()\n",
        "df['race']=df['race'].map(race)\n",
        "\n",
        "\n",
        "relationship=df.groupby(['relationship'])['income'].count().sort_values(0,ascending=False).rank(method='max').to_dict()\n",
        "df['relationship']=df['relationship'].map(relationship)\n",
        "\n",
        "marital_status=df.groupby(['marital_status'])['income'].count().sort_values(0,ascending=False).rank(method='max').to_dict()\n",
        "df['marital_status']=df['marital_status'].map(marital_status)\n",
        "\n",
        "native_country=df.groupby(['native_country'])['income'].count().sort_values(0,ascending=False).rank(method='max').to_dict()\n",
        "df['native_country']=df['native_country'].map(native_country)"
      ],
      "execution_count": 100,
      "outputs": []
    },
    {
      "cell_type": "code",
      "metadata": {
        "id": "5HeGwmHZ7Uo5"
      },
      "source": [
        "df.fillna(0,inplace=True)"
      ],
      "execution_count": 101,
      "outputs": []
    },
    {
      "cell_type": "code",
      "metadata": {
        "id": "l_9PMs80dX8-"
      },
      "source": [
        "dummy_list=['sex','education']"
      ],
      "execution_count": 102,
      "outputs": []
    },
    {
      "cell_type": "code",
      "metadata": {
        "id": "ndQWbTGLw6Mk"
      },
      "source": [
        "dummy_drop = []\n",
        "clean_df = df\n",
        "for i in dummy_list:\n",
        "    dummy_drop += [i + '_' + str(df[i].unique()[-1])]\n",
        "\n",
        "df = pd.get_dummies(df, columns = dummy_list)\n",
        "df = df.drop(dummy_drop, axis = 1)"
      ],
      "execution_count": 103,
      "outputs": []
    },
    {
      "cell_type": "code",
      "metadata": {
        "colab": {
          "base_uri": "https://localhost:8080/"
        },
        "id": "oVw4mMWjilfl",
        "outputId": "7cae4e7a-99ea-4215-c7d0-f33d69b9af0f"
      },
      "source": [
        "df.columns"
      ],
      "execution_count": 105,
      "outputs": [
        {
          "output_type": "execute_result",
          "data": {
            "text/plain": [
              "Index(['age', 'workclass', 'fnlwgt', 'education_num', 'marital_status',\n",
              "       'occupation', 'relationship', 'race', 'capital_gain', 'capital_loss',\n",
              "       'hours_per_week', 'native_country', 'income', 'cross_Valid',\n",
              "       'sex_ Male', 'education_ 10th', 'education_ 11th', 'education_ 1st-4th',\n",
              "       'education_ 5th-6th', 'education_ 7th-8th', 'education_ 9th',\n",
              "       'education_ Assoc-acdm', 'education_ Assoc-voc', 'education_ Bachelors',\n",
              "       'education_ Doctorate', 'education_ HS-grad', 'education_ Masters',\n",
              "       'education_ Preschool', 'education_ Prof-school',\n",
              "       'education_ Some-college'],\n",
              "      dtype='object')"
            ]
          },
          "metadata": {
            "tags": []
          },
          "execution_count": 105
        }
      ]
    },
    {
      "cell_type": "code",
      "metadata": {
        "id": "jkJviVK6eRBH"
      },
      "source": [
        "df['age_edu']=df['age']-df['education_num']"
      ],
      "execution_count": 106,
      "outputs": []
    },
    {
      "cell_type": "code",
      "metadata": {
        "id": "Ga-X1rSsgHtE"
      },
      "source": [
        "df.income.unique()\n",
        "a = {' <=50K':0, ' >50K':1}"
      ],
      "execution_count": 107,
      "outputs": []
    },
    {
      "cell_type": "code",
      "metadata": {
        "id": "4WS5fK4CgFJa"
      },
      "source": [
        "df['income']=df['income'].map(a)\n",
        "cross= {' <=50K.':0, ' >50K.':1}\n",
        "df['cross_Valid']=df['cross_Valid'].map(cross)"
      ],
      "execution_count": 108,
      "outputs": []
    },
    {
      "cell_type": "code",
      "metadata": {
        "id": "jcXvQdHhg7kO"
      },
      "source": [
        "df.fillna(0,inplace=True)"
      ],
      "execution_count": 109,
      "outputs": []
    },
    {
      "cell_type": "code",
      "metadata": {
        "id": "y6tj342derbm"
      },
      "source": [
        "train_len = len(train)\n",
        "train_ = df[:train_len]\n",
        "test_ = df[train_len:]"
      ],
      "execution_count": 110,
      "outputs": []
    },
    {
      "cell_type": "code",
      "metadata": {
        "colab": {
          "base_uri": "https://localhost:8080/"
        },
        "id": "_y0jFtCJrhzF",
        "outputId": "df9a208b-fd1e-4a62-997b-d7acf6c2f204"
      },
      "source": [
        "test_['cross_Valid'].value_counts()"
      ],
      "execution_count": 111,
      "outputs": [
        {
          "output_type": "execute_result",
          "data": {
            "text/plain": [
              "0.0    12435\n",
              "1.0     3846\n",
              "Name: cross_Valid, dtype: int64"
            ]
          },
          "metadata": {
            "tags": []
          },
          "execution_count": 111
        }
      ]
    },
    {
      "cell_type": "code",
      "metadata": {
        "id": "TWNqrv25eyEv"
      },
      "source": [
        "from sklearn.model_selection import train_test_split,cross_val_score\n",
        "\n",
        "y=train_['income']#.values.reshape(-1,1)\n",
        "x=train_.drop(['income','cross_Valid'],axis=1)\n",
        "\n",
        "\n",
        "X_train,X_test,y_train,y_test = train_test_split(x,y,test_size=0.1,random_state=34)"
      ],
      "execution_count": 112,
      "outputs": []
    },
    {
      "cell_type": "code",
      "metadata": {
        "id": "yrAv_AOlfBNd"
      },
      "source": [
        "from sklearn.metrics import accuracy_score,confusion_matrix,f1_score,mean_squared_error,r2_score,mean_squared_log_error\n",
        "from sklearn.ensemble import RandomForestClassifier\n",
        "from sklearn.tree import DecisionTreeClassifier\n",
        "from xgboost import XGBClassifier\n",
        "\n",
        "xgb = XGBClassifier()\n",
        "rfc = RandomForestClassifier(oob_score=True)\n",
        "dtr = DecisionTreeClassifier()\n",
        "\n",
        "def m_eval(model,X_train,y_train,X_test,y_test):\n",
        "  for i in model:  \n",
        "    i.fit(X_train,y_train)\n",
        "    pred_train = i.predict(X_train)\n",
        "    pred_test = i.predict(X_test)\n",
        "    print(i)\n",
        "    print('Train f1_score',f1_score(y_train,pred_train))\n",
        "    print('Test f1_score',f1_score(y_test,pred_test))\n",
        "    print('Train accuracy',accuracy_score(y_train,pred_train))\n",
        "    print('Test accuracy',accuracy_score(y_test,pred_test))\n",
        "    print('*****************************************************')\n",
        "    "
      ],
      "execution_count": 121,
      "outputs": []
    },
    {
      "cell_type": "code",
      "metadata": {
        "colab": {
          "base_uri": "https://localhost:8080/"
        },
        "id": "hnwwR6ohfaWd",
        "outputId": "c386659b-8be1-45b8-a5d4-a515a3381210"
      },
      "source": [
        "m_eval([rfc,dtr,xgb],X_train,y_train,X_test,y_test)"
      ],
      "execution_count": 122,
      "outputs": [
        {
          "output_type": "stream",
          "text": [
            "RandomForestClassifier(bootstrap=True, ccp_alpha=0.0, class_weight=None,\n",
            "                       criterion='gini', max_depth=None, max_features='auto',\n",
            "                       max_leaf_nodes=None, max_samples=None,\n",
            "                       min_impurity_decrease=0.0, min_impurity_split=None,\n",
            "                       min_samples_leaf=1, min_samples_split=2,\n",
            "                       min_weight_fraction_leaf=0.0, n_estimators=100,\n",
            "                       n_jobs=None, oob_score=True, random_state=None,\n",
            "                       verbose=0, warm_start=False)\n",
            "Train f1_score 0.99992875970649\n",
            "Test f1_score 0.671484888304862\n",
            "Train accuracy 0.999965874965875\n",
            "Test accuracy 0.8464844949339884\n",
            "*****************************************************\n",
            "DecisionTreeClassifier(ccp_alpha=0.0, class_weight=None, criterion='gini',\n",
            "                       max_depth=None, max_features=None, max_leaf_nodes=None,\n",
            "                       min_impurity_decrease=0.0, min_impurity_split=None,\n",
            "                       min_samples_leaf=1, min_samples_split=2,\n",
            "                       min_weight_fraction_leaf=0.0, presort='deprecated',\n",
            "                       random_state=None, splitter='best')\n",
            "Train f1_score 0.9999287495546847\n",
            "Test f1_score 0.6275207591933571\n",
            "Train accuracy 0.999965874965875\n",
            "Test accuracy 0.8071845256370893\n",
            "*****************************************************\n",
            "XGBClassifier(base_score=0.5, booster='gbtree', colsample_bylevel=1,\n",
            "              colsample_bynode=1, colsample_bytree=1, gamma=0,\n",
            "              learning_rate=0.1, max_delta_step=0, max_depth=3,\n",
            "              min_child_weight=1, missing=None, n_estimators=100, n_jobs=1,\n",
            "              nthread=None, objective='binary:logistic', random_state=0,\n",
            "              reg_alpha=0, reg_lambda=1, scale_pos_weight=1, seed=None,\n",
            "              silent=None, subsample=1, verbosity=1)\n",
            "Train f1_score 0.6930725082855065\n",
            "Test f1_score 0.6574585635359116\n",
            "Train accuracy 0.8704272454272455\n",
            "Test accuracy 0.8477126189745164\n",
            "*****************************************************\n"
          ],
          "name": "stdout"
        }
      ]
    },
    {
      "cell_type": "code",
      "metadata": {
        "id": "MnDvGU8agsvj"
      },
      "source": [
        "pred = xgb.predict(test_.drop(['cross_Valid','income'],axis=1))"
      ],
      "execution_count": 123,
      "outputs": []
    },
    {
      "cell_type": "code",
      "metadata": {
        "colab": {
          "base_uri": "https://localhost:8080/"
        },
        "id": "J-YjjfVlCBD7",
        "outputId": "c30a18fd-fe49-4ba2-c339-e2ca1849dd42"
      },
      "source": [
        "f1_score(test_['cross_Valid'].values,pred)"
      ],
      "execution_count": 124,
      "outputs": [
        {
          "output_type": "execute_result",
          "data": {
            "text/plain": [
              "0.685924834193073"
            ]
          },
          "metadata": {
            "tags": []
          },
          "execution_count": 124
        }
      ]
    },
    {
      "cell_type": "code",
      "metadata": {
        "colab": {
          "base_uri": "https://localhost:8080/"
        },
        "id": "-QAeOnTWBHHv",
        "outputId": "3baca0c3-2ab8-4777-d69b-64394ce968f7"
      },
      "source": [
        "test_['cross_Valid'].value_counts()"
      ],
      "execution_count": 118,
      "outputs": [
        {
          "output_type": "execute_result",
          "data": {
            "text/plain": [
              "0.0    12435\n",
              "1.0     3846\n",
              "Name: cross_Valid, dtype: int64"
            ]
          },
          "metadata": {
            "tags": []
          },
          "execution_count": 118
        }
      ]
    },
    {
      "cell_type": "code",
      "metadata": {
        "id": "mcVmvYUJBhEO"
      },
      "source": [
        ""
      ],
      "execution_count": null,
      "outputs": []
    }
  ]
}